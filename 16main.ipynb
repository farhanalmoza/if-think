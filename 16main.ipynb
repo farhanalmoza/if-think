{
 "metadata": {
  "language_info": {
   "codemirror_mode": {
    "name": "ipython",
    "version": 3
   },
   "file_extension": ".py",
   "mimetype": "text/x-python",
   "name": "python",
   "nbconvert_exporter": "python",
   "pygments_lexer": "ipython3",
   "version": 3
  },
  "orig_nbformat": 2
 },
 "nbformat": 4,
 "nbformat_minor": 2,
 "cells": [
  {
   "cell_type": "code",
   "execution_count": null,
   "metadata": {},
   "outputs": [],
   "source": [
    "nama = \"universitas pembangunan nasional veteran\"\n",
    "\n",
    "x = nama.partition('nasional')\n",
    "\n",
    "print(x)"
   ]
  },
  {
   "cell_type": "code",
   "execution_count": null,
   "metadata": {},
   "outputs": [],
   "source": [
    "# output : ('universitas pembangunan ', 'nasional', ' veteran')\n",
    "# penjelasan : method partition() akan mencari string 'nasional'\n",
    "# kemudian membagi string menjadi tiga elemen dan dimasukkan ke dalam tuple\n",
    "# elemen perta ialah bagian sebelum string 'nasional'. elemen\n",
    "# kedua adalah string 'nasional'. dan elemen ketiga ialah bagian\n",
    "# setelah 'nasional'."
   ]
  }
 ]
}